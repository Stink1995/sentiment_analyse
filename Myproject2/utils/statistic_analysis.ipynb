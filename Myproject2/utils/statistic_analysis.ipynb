{
 "cells": [
  {
   "cell_type": "code",
   "execution_count": 1,
   "metadata": {},
   "outputs": [],
   "source": [
    "import pandas as pd\n",
    "from config import *\n",
    "import matplotlib.pyplot as plt\n",
    "import re,zhconv,jieba\n",
    "import numpy as np"
   ]
  },
  {
   "cell_type": "code",
   "execution_count": 2,
   "metadata": {},
   "outputs": [],
   "source": [
    "def traditional_2_simplified(sentence):\n",
    "    '''\n",
    "    将sentence中的繁体字转为简体字\n",
    "    :param sentence: 待转换的句子\n",
    "    :return: 将句子中繁体字转换为简体字之后的句子\n",
    "    '''\n",
    "    sentence = clean_sentence(sentence)\n",
    "    return zhconv.convert(sentence, 'zh-cn')\n",
    "\n",
    "def clean_sentence(sentence):\n",
    "    '''\n",
    "    特殊符号去除,汉语标点符号就不去掉了\n",
    "    :param sentence: 待处理的字符串\n",
    "    :return: 过滤特殊字符后的字符串\n",
    "    '''\n",
    "    if isinstance(sentence, str):\n",
    "        return re.sub(\n",
    "            r'[\\|\\/\\[\\]\\{\\}_^*(+\\\"\\')\\n]+|[；，。.:：+——(),%【】“”@#￥……&*（）]+',\n",
    "            '', sentence)\n",
    "    else:\n",
    "        return ''\n",
    "\n",
    "def sentence_seg(sentence):\n",
    "    '''\n",
    "    预处理模块\n",
    "    :param sentence:待处理字符串\n",
    "    :return: 处理后的字符串\n",
    "    '''\n",
    "    words = jieba.lcut(sentence)\n",
    "    return ' '.join(words)\n",
    "\n",
    "def transform_char(sentence):\n",
    "    '''\n",
    "    把句子拆分为字，为字向量模型做准备\n",
    "    '''\n",
    "    return ' '.join(list(sentence.strip()))"
   ]
  },
  {
   "cell_type": "code",
   "execution_count": 3,
   "metadata": {},
   "outputs": [
    {
     "name": "stdout",
     "output_type": "stream",
     "text": [
      "train dataset size : (105000, 22), valid dataset size : (15000, 22)\n"
     ]
    }
   ],
   "source": [
    "# 读取数据集\n",
    "train_df = pd.read_csv(trainset_path)\n",
    "valid_df = pd.read_csv(validset_path)\n",
    "print(\"train dataset size : {}, valid dataset size : {}\".format(train_df.shape,valid_df.shape))"
   ]
  },
  {
   "cell_type": "code",
   "execution_count": 4,
   "metadata": {},
   "outputs": [
    {
     "data": {
      "text/plain": [
       "id                                          0\n",
       "content                                     0\n",
       "location_traffic_convenience                0\n",
       "location_distance_from_business_district    0\n",
       "location_easy_to_find                       0\n",
       "service_wait_time                           0\n",
       "service_waiters_attitude                    0\n",
       "service_parking_convenience                 0\n",
       "service_serving_speed                       0\n",
       "price_level                                 0\n",
       "price_cost_effective                        0\n",
       "price_discount                              0\n",
       "environment_decoration                      0\n",
       "environment_noise                           0\n",
       "environment_space                           0\n",
       "environment_cleaness                        0\n",
       "dish_portion                                0\n",
       "dish_taste                                  0\n",
       "dish_look                                   0\n",
       "dish_recommendation                         0\n",
       "others_overall_experience                   0\n",
       "others_willing_to_consume_again             0\n",
       "dtype: int64"
      ]
     },
     "execution_count": 4,
     "metadata": {},
     "output_type": "execute_result"
    }
   ],
   "source": [
    "# 查看缺失值情况\n",
    "train_df.isnull().sum()"
   ]
  },
  {
   "cell_type": "code",
   "execution_count": 5,
   "metadata": {},
   "outputs": [
    {
     "data": {
      "text/plain": [
       "id                                          0\n",
       "content                                     0\n",
       "location_traffic_convenience                0\n",
       "location_distance_from_business_district    0\n",
       "location_easy_to_find                       0\n",
       "service_wait_time                           0\n",
       "service_waiters_attitude                    0\n",
       "service_parking_convenience                 0\n",
       "service_serving_speed                       0\n",
       "price_level                                 0\n",
       "price_cost_effective                        0\n",
       "price_discount                              0\n",
       "environment_decoration                      0\n",
       "environment_noise                           0\n",
       "environment_space                           0\n",
       "environment_cleaness                        0\n",
       "dish_portion                                0\n",
       "dish_taste                                  0\n",
       "dish_look                                   0\n",
       "dish_recommendation                         0\n",
       "others_overall_experience                   0\n",
       "others_willing_to_consume_again             0\n",
       "dtype: int64"
      ]
     },
     "execution_count": 5,
     "metadata": {},
     "output_type": "execute_result"
    }
   ],
   "source": [
    "valid_df.isnull().sum()"
   ]
  },
  {
   "cell_type": "code",
   "execution_count": 6,
   "metadata": {},
   "outputs": [],
   "source": [
    "# 把数据集中的繁体转化为简体。\n",
    "\n",
    "train_df['content'] = train_df['content'].apply(traditional_2_simplified)\n",
    "valid_df['content'] = valid_df['content'].apply(traditional_2_simplified)"
   ]
  },
  {
   "cell_type": "code",
   "execution_count": 7,
   "metadata": {},
   "outputs": [
    {
     "name": "stderr",
     "output_type": "stream",
     "text": [
      "Building prefix dict from the default dictionary ...\n",
      "Loading model from cache /tmp/jieba.cache\n",
      "Loading model cost 0.562 seconds.\n",
      "Prefix dict has been built succesfully.\n"
     ]
    }
   ],
   "source": [
    "# 对数据集进行分词。\n",
    "\n",
    "train_df['content_seg'] = train_df['content'].apply(sentence_seg)\n",
    "valid_df['content_seg'] = valid_df['content'].apply(sentence_seg)"
   ]
  },
  {
   "cell_type": "code",
   "execution_count": 8,
   "metadata": {},
   "outputs": [],
   "source": [
    "# 把评论内容拆分为字，为训练字向量模型做准备。\n",
    "\n",
    "train_df['content_char'] = train_df['content'].apply(transform_char)\n",
    "valid_df['content_char'] = valid_df['content'].apply(transform_char)"
   ]
  },
  {
   "cell_type": "code",
   "execution_count": 9,
   "metadata": {},
   "outputs": [
    {
     "data": {
      "text/plain": [
       "0    吼吼 吼萌 死 人 的 棒棒糖 中 了 大众 点评 的 霸王餐 太 可爱 了 一直 就 好奇...\n",
       "1    第三次 参加 大众 点评 网 霸王餐 的 活动 这家 店 给 人 整体 感觉 一般 首先 环...\n",
       "2    4 人 同行   点 了 10 个 小吃 榴莲 酥   榴莲 味道 不足   松软   奶味...\n",
       "3    之前 评价 了 莫名其妙 被删   果断 继续 差评 ！   换 了 菜单   价格 更 低...\n",
       "4    出乎意料 地 惊艳 椰子 鸡 清热 降火 美容 养颜 大大 满足 了 爱 吃火锅 怕 上 火...\n",
       "Name: content_seg, dtype: object"
      ]
     },
     "execution_count": 9,
     "metadata": {},
     "output_type": "execute_result"
    }
   ],
   "source": [
    "train_df['content_seg'].head()"
   ]
  },
  {
   "cell_type": "code",
   "execution_count": 10,
   "metadata": {},
   "outputs": [
    {
     "data": {
      "text/plain": [
       "0    吼 吼 吼 萌 死 人 的 棒 棒 糖 中 了 大 众 点 评 的 霸 王 餐 太 可 爱 ...\n",
       "1    第 三 次 参 加 大 众 点 评 网 霸 王 餐 的 活 动 这 家 店 给 人 整 体 ...\n",
       "2    4 人 同 行   点 了 1 0 个 小 吃 榴 莲 酥   榴 莲 味 道 不 足   ...\n",
       "3    之 前 评 价 了 莫 名 其 妙 被 删   果 断 继 续 差 评 ！   换 了 菜 ...\n",
       "4    出 乎 意 料 地 惊 艳 椰 子 鸡 清 热 降 火 美 容 养 颜 大 大 满 足 了 ...\n",
       "Name: content_char, dtype: object"
      ]
     },
     "execution_count": 10,
     "metadata": {},
     "output_type": "execute_result"
    }
   ],
   "source": [
    "train_df['content_char'].head()"
   ]
  },
  {
   "cell_type": "code",
   "execution_count": 11,
   "metadata": {},
   "outputs": [],
   "source": [
    "# 统计点评内容的长度，用来确定输入的最大长度。\n",
    "\n",
    "train_df['word_len'] = train_df['content_seg'].apply(lambda x: x.count(' ') + 1)\n",
    "valid_df['word_len'] = valid_df['content_seg'].apply(lambda x: x.count(' ') + 1)"
   ]
  },
  {
   "cell_type": "code",
   "execution_count": 12,
   "metadata": {},
   "outputs": [],
   "source": [
    "# 观察内容长度的分布。\n",
    "\n",
    "merged_len_word = pd.concat([train_df[['word_len']],valid_df[['word_len']]],axis=0)"
   ]
  },
  {
   "cell_type": "code",
   "execution_count": 13,
   "metadata": {},
   "outputs": [
    {
     "name": "stderr",
     "output_type": "stream",
     "text": [
      "/home/msg/.conda/envs/tf2/lib/python3.7/site-packages/ipykernel_launcher.py:7: MatplotlibDeprecationWarning: \n",
      "The 'normed' kwarg was deprecated in Matplotlib 2.1 and will be removed in 3.1. Use 'density' instead.\n",
      "  import sys\n"
     ]
    },
    {
     "data": {
      "image/png": "[encoded data removed]",
      "text/plain": [
       "<Figure size 432x288 with 1 Axes>"
      ]
     },
     "metadata": {
      "needs_background": "light"
     },
     "output_type": "display_data"
    }
   ],
   "source": [
    "plt.hist(merged_len_word['word_len'],\n",
    "         bins=50,\n",
    "         range=(100,800),\n",
    "         color='blue',\n",
    "         cumulative=False,\n",
    "         normed=True,\n",
    "         histtype='step')\n",
    "plt.show()"
   ]
  },
  {
   "cell_type": "code",
   "execution_count": 14,
   "metadata": {},
   "outputs": [],
   "source": [
    "# 同样，观察拆分后字后的点评内容的长度。\n",
    "\n",
    "train_df['char_len'] = train_df['content_char'].apply(lambda x: x.count(' ') + 1)\n",
    "valid_df['char_len'] = valid_df['content_char'].apply(lambda x: x.count(' ') + 1)"
   ]
  },
  {
   "cell_type": "code",
   "execution_count": 15,
   "metadata": {},
   "outputs": [],
   "source": [
    "merged_len_char = pd.concat([train_df[['char_len']],valid_df[['char_len']]],axis=0)"
   ]
  },
  {
   "cell_type": "code",
   "execution_count": 16,
   "metadata": {},
   "outputs": [
    {
     "name": "stderr",
     "output_type": "stream",
     "text": [
      "/home/msg/.conda/envs/tf2/lib/python3.7/site-packages/ipykernel_launcher.py:9: MatplotlibDeprecationWarning: \n",
      "The 'normed' kwarg was deprecated in Matplotlib 2.1 and will be removed in 3.1. Use 'density' instead.\n",
      "  if __name__ == '__main__':\n"
     ]
    },
    {
     "data": {
      "image/png": "[encoded data removed]",
      "text/plain": [
       "<Figure size 432x288 with 1 Axes>"
      ]
     },
     "metadata": {
      "needs_background": "light"
     },
     "output_type": "display_data"
    }
   ],
   "source": [
    "plt.clf()\n",
    "\n",
    "plt.hist(merged_len_char['char_len'],\n",
    "         bins=50,\n",
    "         range=(100,1000),\n",
    "         color='blue',\n",
    "         cumulative=False,\n",
    "         normed=True,\n",
    "         histtype='step')\n",
    "plt.show()"
   ]
  },
  {
   "cell_type": "code",
   "execution_count": 17,
   "metadata": {},
   "outputs": [
    {
     "data": {
      "text/plain": [
       "0.9488"
      ]
     },
     "execution_count": 17,
     "metadata": {},
     "output_type": "execute_result"
    }
   ],
   "source": [
    "# 可以发现，对于分词后的内容，模型最大输入长度取350，那么有92%的样本不需要截断。\n",
    "# 这个值我们尽可能取大一点，因为后面我们可以作为参数来调，比如从200,250,300,350.\n",
    "\n",
    "bool_ = merged_len_word['word_len'] <= 400\n",
    "bool_ = bool_.apply(lambda x:int(x))\n",
    "round(sum(bool_) / len(bool_),4)"
   ]
  },
  {
   "cell_type": "code",
   "execution_count": 18,
   "metadata": {},
   "outputs": [
    {
     "data": {
      "text/plain": [
       "0.9762"
      ]
     },
     "execution_count": 18,
     "metadata": {},
     "output_type": "execute_result"
    }
   ],
   "source": [
    "# 可以发现，对于拆字后的内容，模型最大输入长度取512，那么有90%的样本不需要截断。\n",
    "\n",
    "bool_ = merged_len_char['char_len'] <= 800\n",
    "bool_ = bool_.apply(lambda x:int(x))\n",
    "round(sum(bool_) / len(bool_),4)"
   ]
  },
  {
   "cell_type": "code",
   "execution_count": null,
   "metadata": {},
   "outputs": [],
   "source": []
  },
  {
   "cell_type": "code",
   "execution_count": 19,
   "metadata": {},
   "outputs": [],
   "source": [
    "# 所以暂时考虑词的max_len为350，而字的max_len取512"
   ]
  },
  {
   "cell_type": "code",
   "execution_count": 20,
   "metadata": {},
   "outputs": [],
   "source": [
    "# 对评论内容按字进行排序，以便于按 batch 进行分桶，每个batch的输入长度不同，尽量减少pad。\n",
    "\n",
    "train_df.sort_values('word_len',inplace=True)\n",
    "valid_df.sort_values('word_len',inplace=True)"
   ]
  },
  {
   "cell_type": "code",
   "execution_count": 21,
   "metadata": {},
   "outputs": [
    {
     "data": {
      "text/html": [
       "<div>\n",
       "<style scoped>\n",
       "    .dataframe tbody tr th:only-of-type {\n",
       "        vertical-align: middle;\n",
       "    }\n",
       "\n",
       "    .dataframe tbody tr th {\n",
       "        vertical-align: top;\n",
       "    }\n",
       "\n",
       "    .dataframe thead th {\n",
       "        text-align: right;\n",
       "    }\n",
       "</style>\n",
       "<table border=\"1\" class=\"dataframe\">\n",
       "  <thead>\n",
       "    <tr style=\"text-align: right;\">\n",
       "      <th></th>\n",
       "      <th>id</th>\n",
       "      <th>content</th>\n",
       "      <th>location_traffic_convenience</th>\n",
       "      <th>location_distance_from_business_district</th>\n",
       "      <th>location_easy_to_find</th>\n",
       "      <th>service_wait_time</th>\n",
       "      <th>service_waiters_attitude</th>\n",
       "      <th>service_parking_convenience</th>\n",
       "      <th>service_serving_speed</th>\n",
       "      <th>price_level</th>\n",
       "      <th>...</th>\n",
       "      <th>dish_portion</th>\n",
       "      <th>dish_taste</th>\n",
       "      <th>dish_look</th>\n",
       "      <th>dish_recommendation</th>\n",
       "      <th>others_overall_experience</th>\n",
       "      <th>others_willing_to_consume_again</th>\n",
       "      <th>content_seg</th>\n",
       "      <th>content_char</th>\n",
       "      <th>word_len</th>\n",
       "      <th>char_len</th>\n",
       "    </tr>\n",
       "  </thead>\n",
       "  <tbody>\n",
       "    <tr>\n",
       "      <th>103665</th>\n",
       "      <td>103665</td>\n",
       "      <td>早上灵隐寺烧完香回来已经11点了大家已经饿到前胸贴后背了所以门口直接拦了TAXI到杭州酒家幸...</td>\n",
       "      <td>-2</td>\n",
       "      <td>-2</td>\n",
       "      <td>-2</td>\n",
       "      <td>-2</td>\n",
       "      <td>-2</td>\n",
       "      <td>-2</td>\n",
       "      <td>-2</td>\n",
       "      <td>-1</td>\n",
       "      <td>...</td>\n",
       "      <td>-1</td>\n",
       "      <td>0</td>\n",
       "      <td>-2</td>\n",
       "      <td>-2</td>\n",
       "      <td>0</td>\n",
       "      <td>-2</td>\n",
       "      <td>早上 灵隐寺 烧 完香 回来 已经 11 点 了 大家 已经 饿到 前胸 贴 后背 了 所以...</td>\n",
       "      <td>早 上 灵 隐 寺 烧 完 香 回 来 已 经 1 1 点 了 大 家 已 经 饿 到 前 ...</td>\n",
       "      <td>1970</td>\n",
       "      <td>2266</td>\n",
       "    </tr>\n",
       "    <tr>\n",
       "      <th>75330</th>\n",
       "      <td>75330</td>\n",
       "      <td>走进这家店感觉有点像万岁                                  ...</td>\n",
       "      <td>-2</td>\n",
       "      <td>-2</td>\n",
       "      <td>-2</td>\n",
       "      <td>-2</td>\n",
       "      <td>-2</td>\n",
       "      <td>-2</td>\n",
       "      <td>-2</td>\n",
       "      <td>-2</td>\n",
       "      <td>...</td>\n",
       "      <td>-2</td>\n",
       "      <td>1</td>\n",
       "      <td>-2</td>\n",
       "      <td>-2</td>\n",
       "      <td>1</td>\n",
       "      <td>-2</td>\n",
       "      <td>走进 这家 店 感觉 有点像 万岁                             ...</td>\n",
       "      <td>走 进 这 家 店 感 觉 有 点 像 万 岁                       ...</td>\n",
       "      <td>1990</td>\n",
       "      <td>2040</td>\n",
       "    </tr>\n",
       "    <tr>\n",
       "      <th>40592</th>\n",
       "      <td>40592</td>\n",
       "      <td>被抽中的免费试吃100元的海鲜料理任选                           ...</td>\n",
       "      <td>-2</td>\n",
       "      <td>-2</td>\n",
       "      <td>-2</td>\n",
       "      <td>-2</td>\n",
       "      <td>1</td>\n",
       "      <td>-2</td>\n",
       "      <td>-2</td>\n",
       "      <td>1</td>\n",
       "      <td>...</td>\n",
       "      <td>-2</td>\n",
       "      <td>1</td>\n",
       "      <td>-2</td>\n",
       "      <td>-2</td>\n",
       "      <td>1</td>\n",
       "      <td>1</td>\n",
       "      <td>被 抽 中 的 免费 试吃 100 元 的 海鲜 料理 任选                ...</td>\n",
       "      <td>被 抽 中 的 免 费 试 吃 1 0 0 元 的 海 鲜 料 理 任 选         ...</td>\n",
       "      <td>2001</td>\n",
       "      <td>2107</td>\n",
       "    </tr>\n",
       "    <tr>\n",
       "      <th>73979</th>\n",
       "      <td>73979</td>\n",
       "      <td>今天同事生日想了N天还是觉得蝴蝶轩比较落实                         ...</td>\n",
       "      <td>-2</td>\n",
       "      <td>-2</td>\n",
       "      <td>-2</td>\n",
       "      <td>-2</td>\n",
       "      <td>-2</td>\n",
       "      <td>-2</td>\n",
       "      <td>-2</td>\n",
       "      <td>-1</td>\n",
       "      <td>...</td>\n",
       "      <td>-2</td>\n",
       "      <td>0</td>\n",
       "      <td>-2</td>\n",
       "      <td>-2</td>\n",
       "      <td>1</td>\n",
       "      <td>-2</td>\n",
       "      <td>今天 同事 生日 想 了 N 天 还是 觉得 蝴蝶 轩 比较 落实             ...</td>\n",
       "      <td>今 天 同 事 生 日 想 了 N 天 还 是 觉 得 蝴 蝶 轩 比 较 落 实     ...</td>\n",
       "      <td>2310</td>\n",
       "      <td>2436</td>\n",
       "    </tr>\n",
       "    <tr>\n",
       "      <th>73297</th>\n",
       "      <td>73297</td>\n",
       "      <td>无锡王兴记成立于一九一三年老字号是全国首批中华餐饮名店因其历史悠久、信誉卓著、特色鲜明、质量...</td>\n",
       "      <td>1</td>\n",
       "      <td>-2</td>\n",
       "      <td>-2</td>\n",
       "      <td>-2</td>\n",
       "      <td>-2</td>\n",
       "      <td>-2</td>\n",
       "      <td>-2</td>\n",
       "      <td>-2</td>\n",
       "      <td>...</td>\n",
       "      <td>-2</td>\n",
       "      <td>1</td>\n",
       "      <td>-2</td>\n",
       "      <td>-2</td>\n",
       "      <td>1</td>\n",
       "      <td>-2</td>\n",
       "      <td>无锡 王兴记 成立 于 一 九一三 年 老字号 是 全国 首批 中华 餐饮 名店 因 其 历...</td>\n",
       "      <td>无 锡 王 兴 记 成 立 于 一 九 一 三 年 老 字 号 是 全 国 首 批 中 华 ...</td>\n",
       "      <td>2754</td>\n",
       "      <td>2996</td>\n",
       "    </tr>\n",
       "  </tbody>\n",
       "</table>\n",
       "<p>5 rows × 26 columns</p>\n",
       "</div>"
      ],
      "text/plain": [
       "            id                                            content  \\\n",
       "103665  103665  早上灵隐寺烧完香回来已经11点了大家已经饿到前胸贴后背了所以门口直接拦了TAXI到杭州酒家幸...   \n",
       "75330    75330  走进这家店感觉有点像万岁                                  ...   \n",
       "40592    40592  被抽中的免费试吃100元的海鲜料理任选                           ...   \n",
       "73979    73979  今天同事生日想了N天还是觉得蝴蝶轩比较落实                         ...   \n",
       "73297    73297  无锡王兴记成立于一九一三年老字号是全国首批中华餐饮名店因其历史悠久、信誉卓著、特色鲜明、质量...   \n",
       "\n",
       "        location_traffic_convenience  \\\n",
       "103665                            -2   \n",
       "75330                             -2   \n",
       "40592                             -2   \n",
       "73979                             -2   \n",
       "73297                              1   \n",
       "\n",
       "        location_distance_from_business_district  location_easy_to_find  \\\n",
       "103665                                        -2                     -2   \n",
       "75330                                         -2                     -2   \n",
       "40592                                         -2                     -2   \n",
       "73979                                         -2                     -2   \n",
       "73297                                         -2                     -2   \n",
       "\n",
       "        service_wait_time  service_waiters_attitude  \\\n",
       "103665                 -2                        -2   \n",
       "75330                  -2                        -2   \n",
       "40592                  -2                         1   \n",
       "73979                  -2                        -2   \n",
       "73297                  -2                        -2   \n",
       "\n",
       "        service_parking_convenience  service_serving_speed  price_level  \\\n",
       "103665                           -2                     -2           -1   \n",
       "75330                            -2                     -2           -2   \n",
       "40592                            -2                     -2            1   \n",
       "73979                            -2                     -2           -1   \n",
       "73297                            -2                     -2           -2   \n",
       "\n",
       "          ...     dish_portion  dish_taste  dish_look  dish_recommendation  \\\n",
       "103665    ...               -1           0         -2                   -2   \n",
       "75330     ...               -2           1         -2                   -2   \n",
       "40592     ...               -2           1         -2                   -2   \n",
       "73979     ...               -2           0         -2                   -2   \n",
       "73297     ...               -2           1         -2                   -2   \n",
       "\n",
       "        others_overall_experience  others_willing_to_consume_again  \\\n",
       "103665                          0                               -2   \n",
       "75330                           1                               -2   \n",
       "40592                           1                                1   \n",
       "73979                           1                               -2   \n",
       "73297                           1                               -2   \n",
       "\n",
       "                                              content_seg  \\\n",
       "103665  早上 灵隐寺 烧 完香 回来 已经 11 点 了 大家 已经 饿到 前胸 贴 后背 了 所以...   \n",
       "75330   走进 这家 店 感觉 有点像 万岁                             ...   \n",
       "40592   被 抽 中 的 免费 试吃 100 元 的 海鲜 料理 任选                ...   \n",
       "73979   今天 同事 生日 想 了 N 天 还是 觉得 蝴蝶 轩 比较 落实             ...   \n",
       "73297   无锡 王兴记 成立 于 一 九一三 年 老字号 是 全国 首批 中华 餐饮 名店 因 其 历...   \n",
       "\n",
       "                                             content_char  word_len  char_len  \n",
       "103665  早 上 灵 隐 寺 烧 完 香 回 来 已 经 1 1 点 了 大 家 已 经 饿 到 前 ...      1970      2266  \n",
       "75330   走 进 这 家 店 感 觉 有 点 像 万 岁                       ...      1990      2040  \n",
       "40592   被 抽 中 的 免 费 试 吃 1 0 0 元 的 海 鲜 料 理 任 选         ...      2001      2107  \n",
       "73979   今 天 同 事 生 日 想 了 N 天 还 是 觉 得 蝴 蝶 轩 比 较 落 实     ...      2310      2436  \n",
       "73297   无 锡 王 兴 记 成 立 于 一 九 一 三 年 老 字 号 是 全 国 首 批 中 华 ...      2754      2996  \n",
       "\n",
       "[5 rows x 26 columns]"
      ]
     },
     "execution_count": 21,
     "metadata": {},
     "output_type": "execute_result"
    }
   ],
   "source": [
    "train_df.tail()"
   ]
  },
  {
   "cell_type": "code",
   "execution_count": 22,
   "metadata": {},
   "outputs": [],
   "source": [
    "train_df.dropna(inplace=True)\n",
    "valid_df.dropna(inplace=True)"
   ]
  },
  {
   "cell_type": "code",
   "execution_count": 23,
   "metadata": {},
   "outputs": [
    {
     "name": "stdout",
     "output_type": "stream",
     "text": [
      "train dataset size : (105000, 26), valid dataset size : (15000, 26)\n"
     ]
    }
   ],
   "source": [
    "print(\"train dataset size : {}, valid dataset size : {}\".format(train_df.shape,valid_df.shape))"
   ]
  },
  {
   "cell_type": "code",
   "execution_count": 24,
   "metadata": {},
   "outputs": [],
   "source": [
    "train_df.to_csv(trainset_proc_path,sep=',',header=True,index=None)\n",
    "valid_df.to_csv(validset_proc_path,sep=',',header=True,index=None) "
   ]
  },
  {
   "cell_type": "code",
   "execution_count": null,
   "metadata": {},
   "outputs": [],
   "source": []
  },
  {
   "cell_type": "code",
   "execution_count": 25,
   "metadata": {},
   "outputs": [],
   "source": [
    "# 统计类别不平衡情况\n",
    "import sys\n",
    "sys.path.append('../utils')\n",
    "from config import tag_columns"
   ]
  },
  {
   "cell_type": "code",
   "execution_count": 26,
   "metadata": {},
   "outputs": [
    {
     "data": {
      "text/plain": [
       "['location_traffic_convenience',\n",
       " 'location_distance_from_business_district',\n",
       " 'location_easy_to_find',\n",
       " 'service_wait_time',\n",
       " 'service_waiters_attitude',\n",
       " 'service_parking_convenience',\n",
       " 'service_serving_speed',\n",
       " 'price_level',\n",
       " 'price_cost_effective',\n",
       " 'price_discount',\n",
       " 'environment_decoration',\n",
       " 'environment_noise',\n",
       " 'environment_space',\n",
       " 'environment_cleaness',\n",
       " 'dish_portion',\n",
       " 'dish_taste',\n",
       " 'dish_look',\n",
       " 'dish_recommendation',\n",
       " 'others_overall_experience',\n",
       " 'others_willing_to_consume_again']"
      ]
     },
     "execution_count": 26,
     "metadata": {},
     "output_type": "execute_result"
    }
   ],
   "source": [
    "tag_columns"
   ]
  },
  {
   "cell_type": "code",
   "execution_count": 27,
   "metadata": {},
   "outputs": [],
   "source": [
    "plt.rcParams['font.sans-serif'] = ['SimHei']\n",
    "plt.rcParams['axes.unicode_minus'] = False"
   ]
  },
  {
   "cell_type": "code",
   "execution_count": 28,
   "metadata": {},
   "outputs": [],
   "source": [
    "def class_count(df):\n",
    "    df_one_hot = pd.get_dummies(df)[[-2, -1, 0, 1]].values\n",
    "    df_label = np.argmax(df_one_hot,1)\n",
    "    class_freqs = np.bincount(df_label)\n",
    "    return class_freqs\n",
    "\n",
    "def visualize_freqs(df,tag):\n",
    "    x = [-2,-1,0,1]\n",
    "    freq = class_count(df[tag])\n",
    "    plt.bar(range(4),freq,width=0.5,color=['r','b','y','g'],label=tag)\n",
    "    plt.xticks(range(4),[-2,-1,0,1] )\n",
    "    plt.grid()\n",
    "    plt.legend()\n",
    "    plt.show()\n",
    "    plt.clf()"
   ]
  },
  {
   "cell_type": "code",
   "execution_count": 29,
   "metadata": {},
   "outputs": [],
   "source": [
    "Location_tags = [tag for tag in tag_columns if 'location' in tag]"
   ]
  },
  {
   "cell_type": "code",
   "execution_count": 30,
   "metadata": {},
   "outputs": [
    {
     "name": "stderr",
     "output_type": "stream",
     "text": [
      "findfont: Font family ['sans-serif'] not found. Falling back to DejaVu Sans.\n"
     ]
    },
    {
     "data": {
      "image/png": "[encoded data removed]",
      "text/plain": [
       "<Figure size 432x288 with 1 Axes>"
      ]
     },
     "metadata": {
      "needs_background": "light"
     },
     "output_type": "display_data"
    },
    {
     "data": {
      "text/plain": [
       "<Figure size 432x288 with 0 Axes>"
      ]
     },
     "metadata": {},
     "output_type": "display_data"
    }
   ],
   "source": [
    "visualize_freqs(train_df,Location_tags[0])"
   ]
  },
  {
   "cell_type": "code",
   "execution_count": 31,
   "metadata": {},
   "outputs": [
    {
     "data": {
      "image/png": "[encoded data removed]",
      "text/plain": [
       "<Figure size 432x288 with 1 Axes>"
      ]
     },
     "metadata": {
      "needs_background": "light"
     },
     "output_type": "display_data"
    },
    {
     "data": {
      "text/plain": [
       "<Figure size 432x288 with 0 Axes>"
      ]
     },
     "metadata": {},
     "output_type": "display_data"
    }
   ],
   "source": [
    "Service_tags = [tag for tag in tag_columns if 'service' in tag]\n",
    "visualize_freqs(train_df,Service_tags[0])"
   ]
  },
  {
   "cell_type": "code",
   "execution_count": 32,
   "metadata": {},
   "outputs": [
    {
     "data": {
      "image/png": "[encoded data removed]",
      "text/plain": [
       "<Figure size 432x288 with 1 Axes>"
      ]
     },
     "metadata": {
      "needs_background": "light"
     },
     "output_type": "display_data"
    },
    {
     "data": {
      "text/plain": [
       "<Figure size 432x288 with 0 Axes>"
      ]
     },
     "metadata": {},
     "output_type": "display_data"
    }
   ],
   "source": [
    "Price_tags = [tag for tag in tag_columns if 'price' in tag]\n",
    "visualize_freqs(train_df,Price_tags[0])"
   ]
  },
  {
   "cell_type": "code",
   "execution_count": null,
   "metadata": {},
   "outputs": [],
   "source": [
    "# 从部分图可以看到，类别不平衡问题非常严重，考虑用代价敏感学习来解决\n",
    "# 某类别的loss权重 = 全部样本数/某类别样本数 ，在计算交叉熵损失时，每个类别的loss乘以其权重，可以对不平衡类别的loss加大惩罚力度。"
   ]
  }
 ],
 "metadata": {
  "kernelspec": {
   "display_name": "Python 3",
   "language": "python",
   "name": "python3"
  },
  "language_info": {
   "codemirror_mode": {
    "name": "ipython",
    "version": 3
   },
   "file_extension": ".py",
   "mimetype": "text/x-python",
   "name": "python",
   "nbconvert_exporter": "python",
   "pygments_lexer": "ipython3",
   "version": "3.7.7"
  }
 },
 "nbformat": 4,
 "nbformat_minor": 2
}
